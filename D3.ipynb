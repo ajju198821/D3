{
 "cells": [
  {
   "cell_type": "code",
   "execution_count": null,
   "id": "3c3de95b-1de3-4c9c-9c93-bdbecfe4ac48",
   "metadata": {},
   "outputs": [],
   "source": [
    "mport cv2\n",
    "import dlib\n",
    "import numpy as np\n",
    "from IPython.display import display, Audio\n",
    "import imutil"
   ]
  },
  {
   "cell_type": "code",
   "execution_count": null,
   "id": "ba51f152-1e7e-454f-afe9-9061394ed877",
   "metadata": {},
   "outputs": [],
   "source": [
    "cap = cv2.VideoCapture(0)"
   ]
  },
  {
   "cell_type": "code",
   "execution_count": null,
   "id": "7b05e69d-0949-4d15-ba84-854bbbe413fe",
   "metadata": {},
   "outputs": [],
   "source": [
    "detector = dlib.get_frontal_face_detector()\n",
    "predictor = dlib.shape_predictor(\"shape_predictor_68_face_landmarks.dat\")"
   ]
  },
  {
   "cell_type": "code",
   "execution_count": null,
   "id": "b287c9fb-750b-4d7f-a0ad-241f12e7653d",
   "metadata": {},
   "outputs": [],
   "source": [
    "EYE_AR_THRESH = 0.2"
   ]
  },
  {
   "cell_type": "code",
   "execution_count": null,
   "id": "ca528dda-6d5c-4c0a-8e14-ca92b242b44e",
   "metadata": {},
   "outputs": [],
   "source": [
    "while True:\n",
    "    ret, frame = cap.read()\n",
    "    \n",
    "    frame = imutils.resize(frame, width=640)\n",
    "    \n",
    "    gray = cv2.cvtColor(frame, cv2.COLOR_BGR2GRAY)\n",
    "    \n",
    "    faces = detector(gray)\n",
    "    \n",
    "    for face in faces:\n",
    "       \n",
    "        landmarks = predictor(gray, face)\n",
    "        \n",
    "        landmarks_array = np.array([(landmarks.part(i).x, landmarks.part(i).y) for i in range(68)])\n",
    "        \n",
    "        left_eye = landmarks_array[36:42]\n",
    "        right_eye = landmarks_array[42:48]\n",
    "        left_ear = eye_aspect_ratio(left_eye)\n",
    "        right_ear = eye_aspect_ratio(right_eye)\n",
    "        \n",
    "        ear = (left_ear + right_ear) / 2.0\n",
    "        \n",
    "        if ear < EYE_AR_THRESH:\n",
    "            display(Audio(url='https://example.com/alarm_sound.mp3', autoplay=True))\n",
    "            print(\"Eyes closed! Alarm sounded.\")\n",
    "        \n",
    "        for n in range(0, 68):\n",
    "            cv2.circle(frame, (landmarks_array[n, 0], landmarks_array[n, 1]), 1, (0, 255, 0), -1)"
   ]
  },
  {
   "cell_type": "code",
   "execution_count": null,
   "id": "549e4e94-9dd3-4890-af13-d93dd37f0595",
   "metadata": {},
   "outputs": [],
   "source": [
    "cv2.imshow(\"Facial Recognition\", frame)\n",
    " if cv2.waitKey(1) & 0xFF == ord('q'):\n",
    "        break"
   ]
  },
  {
   "cell_type": "code",
   "execution_count": null,
   "id": "b62a942a-a24e-4a86-be8e-393017e3b8eb",
   "metadata": {},
   "outputs": [],
   "source": [
    "cap.release()\n",
    "cv2.destroyAllWindows()\n"
   ]
  },
  {
   "cell_type": "code",
   "execution_count": null,
   "id": "56698e3e-1ac2-4533-a7ae-cbebb4a273ea",
   "metadata": {},
   "outputs": [],
   "source": [
    "def eye_aspect_ratio(eye):\n",
    "    # Calculate the eye aspect ratio (EAR) using the 6 points around the eye\n",
    "    A = np.linalg.norm(eye[1] - eye[5])\n",
    "    B = np.linalg.norm(eye[2] - eye[4])\n",
    "    C = np.linalg.norm(eye[0] - eye[3])\n",
    "    ear = (A + B) / (2.0 * C)\n",
    "    return ear"
   ]
  }
 ],
 "metadata": {
  "kernelspec": {
   "display_name": "Python 3 (ipykernel)",
   "language": "python",
   "name": "python3"
  },
  "language_info": {
   "codemirror_mode": {
    "name": "ipython",
    "version": 3
   },
   "file_extension": ".py",
   "mimetype": "text/x-python",
   "name": "python",
   "nbconvert_exporter": "python",
   "pygments_lexer": "ipython3",
   "version": "3.10.14"
  }
 },
 "nbformat": 4,
 "nbformat_minor": 5
}
